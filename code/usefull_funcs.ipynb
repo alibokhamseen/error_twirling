{
 "cells": [
  {
   "cell_type": "code",
   "execution_count": 6,
   "metadata": {},
   "outputs": [],
   "source": [
    "import numpy as np\n",
    "from itertools import product\n"
   ]
  },
  {
   "cell_type": "code",
   "execution_count": null,
   "metadata": {},
   "outputs": [],
   "source": [
    "class Paulis:\n",
    "    def __init__(self, n: int = 1) -> None:\n",
    "        \"\"\"\n",
    "        Initializes the Paulis class to generate multi-qubit Pauli matrices.\n",
    "        \n",
    "        Args:\n",
    "            n (int): The number of qubits for the multi-qubit Pauli matrices.\n",
    "        \"\"\"\n",
    "        self.n = n\n",
    "        self.single_p = {\n",
    "            \"I\": np.array([[1, 0], [0, 1]], dtype=np.complex128),\n",
    "            \"X\": np.array([[0, 1], [1, 0]], dtype=np.complex128),\n",
    "            \"Y\": np.array([[0, -1j], [1j, 0]], dtype=np.complex128),\n",
    "            \"Z\": np.array([[1, 0], [0, -1]], dtype=np.complex128),\n",
    "        }\n",
    "        \n",
    "        # Generate all multi-qubit Pauli strings and matrices\n",
    "        pauli_labels = [\"I\", \"X\", \"Y\", \"Z\"]\n",
    "        self.multi_p_string = np.array(list(product(pauli_labels, repeat=n)), dtype=str)\n",
    "        self.multi_p = {''.join(label): np.linalg.multi_dot([self.single_p[pauli] for pauli in label])\n",
    "                        for label in self.multi_p_string}\n",
    "    \n",
    "    def get_p_mat(self, inp: str) -> np.ndarray:\n",
    "        \"\"\"\n",
    "        Retrieves the multi-qubit Pauli matrix for the given input string.\n",
    "        \n",
    "        Args:\n",
    "            inp (str): A string representing the Pauli operators (e.g., \"IXZ\").\n",
    "        \n",
    "        Returns:\n",
    "            np.ndarray: The resulting multi-qubit Pauli matrix.\n",
    "        \"\"\"\n",
    "        assert len(inp) == self.n, \"Input length does not match the number of qubits\"\n",
    "        return self.multi_p[inp]"
   ]
  }
 ],
 "metadata": {
  "kernelspec": {
   "display_name": "base",
   "language": "python",
   "name": "python3"
  },
  "language_info": {
   "codemirror_mode": {
    "name": "ipython",
    "version": 3
   },
   "file_extension": ".py",
   "mimetype": "text/x-python",
   "name": "python",
   "nbconvert_exporter": "python",
   "pygments_lexer": "ipython3",
   "version": "3.10.9"
  }
 },
 "nbformat": 4,
 "nbformat_minor": 2
}
