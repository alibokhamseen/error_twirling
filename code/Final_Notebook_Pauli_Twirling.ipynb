{
 "cells": [
  {
   "cell_type": "markdown",
   "metadata": {},
   "source": [
    "# Constructing Pauli Twirling Sets from Arbitrary Error Channels\n",
    "\n",
    "Note: All these paragraphs are stolen from the paper and need editing.\n",
    "\n",
    "\"Twirling is a technique widely used for converting arbitrary noise channels into Pauli channels in error threshold estimations of quantum error correction codes. It is vitally useful both in real experiments and in classical quantum simulations. Minimising the size of the twirling gate set increases the efficiency of simulations and in experiments it might reduce both the number of runs required and the circuit depth (and hence the error burden). Conventional twirling uses the full set of Pauli gates as the set of twirling gates. This article provides a theoretical background for Pauli twirling and a way to construct a twirling gate set with a number of members comparable to the size of the Pauli basis of the given error channel, which is usually much smaller than the full set of Pauli gates. We also show that twirling is equivalent to stabiliser measurements with discarded measurement results, which enables us to further reduce the size of the twirling gate set.\""
   ]
  },
  {
   "cell_type": "markdown",
   "metadata": {},
   "source": [
    "## Introduction\n",
    "\n",
    "\n",
    "Twirling is a technique that has been long established in the quantum information literature. It was first used for mapping a diverse range of states into a canonical form in entanglement purification [1, 2]. Then it ap- peared again as an integral part in randomised bench- marking [3, 4] and was also used to reduce the num- ber of experimental runs needed in quantum process tomography [5, 6], both are critical in benchmarking the performance of quantum systems, especially “Noisy Intermediate-Scale Quantum” (NISQ) systems [7]. More recently, twirling was used as means to boost the perfor- mance of NISQ through error mitigations [8–11] in which it enables a controlled increase of the gate error rates for error extrapolations. In this article, twirling is discussed as a technique for simulating noise and the impact of the noise on the performance of quantum error correction codes [12].\n",
    "\n",
    "The Gottesman-Knill theorem [13, 14] states that any quantum circuits involving only Clifford gates can be per- fectly simulated in polynomial time on a classical com- puter. One important example is the circuits used to im- plement quantum error correction codes. For each code, there exists an error threshold of the circuit components below which the computational error can be made arbi- trarily small by scaling up the code. As we try to obtain the error thresholds of the codes, we often need to in- troduce various forms of noise into the circuits based on the underlying physical implementations. This noise can be viewed as extra probabilistic gates on top of the per- fect Clifford gates. However, the fact that this noise can be non-Clifford means that the circuits cannot be simu- lated efficiently classically, i.e. numerically determining the threshold becomes intractable.\n",
    "\n",
    "This can be solved by twirling. Twirling means that every time we run the circuit, we conjugate the noise with an gate randomly chosen from a set of gates called the twirling set. By choosing the twirling set to be the full set of Pauli operators, we can convert any noise channel into a Pauli channel whose noise elements correspond to the Pauli basis of the original noise [15]. Such Pauli chan- nel approximation has been shown to be effective in error threshold estimation by Geller et al. [12] and Guti ́errez et al. [16], which justify its usage in error threshold simula- tion across various architectures [17–20]."
   ]
  },
  {
   "cell_type": "markdown",
   "metadata": {},
   "source": [
    "## Purpose of the Project\n",
    "\n",
    "In this article we will focus on Pauli twirling, whose twirling set is a subset of Pauli gates, with the goal of converting a given noise channel into a Pauli channel. For such a goal, twirling over the full set of Pauli operators is not always optimal. If we want to apply twirling in quan- tum simulations or real experiments, a twirling set with a smaller size means a lower number of simulations or experiments may be needed to get the full statistical re- sult. Moreover, a smaller twirling set allows us to choose twirling gates that have higher fidelities and/or act on fewer qubits. This will reduce the number of errors we introduce into the system due to twirling.\n",
    "\n",
    "In this article, we will introduce a way to exploit the symmetries in the noise channel to reduce the size of the Pauli twirling set needed for the channel. The paper is or- ganised as follows. In Section II, we first introduce some essential concepts for our analysis. In Section III, we in- troduce the theory of Pauli twirling, in which we obtain the requirement on the twirling set. In Section IV, we show a way to construct a twirling set that satisfied the conditions that we laid out. This is followed by two exam- ples. In Section V, we discuss how to use stabiliser mea- surements to further reduce the size of our twirling set. Lastly, Section VI provides a summary of our results and some possible future directions. The mathematical justi- fication for our method of construction of the twirling set is described in the appendices, which forms an essential part of the paper."
   ]
  },
  {
   "cell_type": "markdown",
   "metadata": {},
   "source": [
    "## Constructing the Twirling Set"
   ]
  },
  {
   "cell_type": "markdown",
   "metadata": {},
   "source": [
    "### Building Commutator and Generator Tables to Compute $W$"
   ]
  },
  {
   "cell_type": "code",
   "execution_count": 10,
   "metadata": {},
   "outputs": [],
   "source": [
    "import numpy as np\n",
    "from itertools import product\n",
    "\n",
    "# Define Pauli matrices and their names\n",
    "pauli_matrices = {\n",
    "    'I': np.array([[1, 0], [0, 1]]),\n",
    "    'X': np.array([[0, 1], [1, 0]]),\n",
    "    'Y': np.array([[0, -1j], [1j, 0]]),\n",
    "    'Z': np.array([[1, 0], [0, -1]])\n",
    "}\n",
    "\n",
    "# Generate tensor products for multi-qubit Pauli operators\n",
    "def generate_multi_qubit_paulis(n):\n",
    "    keys = list(pauli_matrices.keys())\n",
    "    ops = list(pauli_matrices.values())\n",
    "    names = []\n",
    "    matrices = []\n",
    "\n",
    "    for prod in product(keys, repeat=n):\n",
    "        name = ''.join(prod)\n",
    "        matrix = pauli_matrices[prod[0]]\n",
    "        for k in range(1, n):\n",
    "            matrix = np.kron(matrix, pauli_matrices[prod[k]])\n",
    "        names.append(name)\n",
    "        matrices.append(matrix)\n",
    "\n",
    "    return names, matrices\n",
    "\n",
    "# Define commutator function ζ(gi, gj)\n",
    "def commutator(gi, gj):\n",
    "    comm = gi @ gj - gj @ gi\n",
    "    return 1 if np.allclose(comm, 0) else -1\n",
    "\n",
    "# Generate commutator table\n",
    "def generate_commutator_table(matrices, names):\n",
    "    n = len(matrices)\n",
    "    table = np.zeros((n, n), dtype=int)\n",
    "    \n",
    "    for i in range(n):\n",
    "        for j in range(n):\n",
    "            table[i, j] = commutator(matrices[i], matrices[j])\n",
    "    \n",
    "    # Print with names\n",
    "    print(\"\\t\" + \"\\t\".join(names))\n",
    "    for i in range(n):\n",
    "        print(names[i] + \"\\t\" + \"\\t\".join(map(str, table[i])))"
   ]
  },
  {
   "cell_type": "markdown",
   "metadata": {},
   "source": [
    "#### Commutator Table"
   ]
  },
  {
   "cell_type": "code",
   "execution_count": 11,
   "metadata": {},
   "outputs": [
    {
     "name": "stdout",
     "output_type": "stream",
     "text": [
      "\tII\tIX\tIY\tIZ\tXI\tXX\tXY\tXZ\tYI\tYX\tYY\tYZ\tZI\tZX\tZY\tZZ\n",
      "II\t1\t1\t1\t1\t1\t1\t1\t1\t1\t1\t1\t1\t1\t1\t1\t1\n",
      "IX\t1\t1\t-1\t-1\t1\t1\t-1\t-1\t1\t1\t-1\t-1\t1\t1\t-1\t-1\n",
      "IY\t1\t-1\t1\t-1\t1\t-1\t1\t-1\t1\t-1\t1\t-1\t1\t-1\t1\t-1\n",
      "IZ\t1\t-1\t-1\t1\t1\t-1\t-1\t1\t1\t-1\t-1\t1\t1\t-1\t-1\t1\n",
      "XI\t1\t1\t1\t1\t1\t1\t1\t1\t-1\t-1\t-1\t-1\t-1\t-1\t-1\t-1\n",
      "XX\t1\t1\t-1\t-1\t1\t1\t-1\t-1\t-1\t-1\t1\t1\t-1\t-1\t1\t1\n",
      "XY\t1\t-1\t1\t-1\t1\t-1\t1\t-1\t-1\t1\t-1\t1\t-1\t1\t-1\t1\n",
      "XZ\t1\t-1\t-1\t1\t1\t-1\t-1\t1\t-1\t1\t1\t-1\t-1\t1\t1\t-1\n",
      "YI\t1\t1\t1\t1\t-1\t-1\t-1\t-1\t1\t1\t1\t1\t-1\t-1\t-1\t-1\n",
      "YX\t1\t1\t-1\t-1\t-1\t-1\t1\t1\t1\t1\t-1\t-1\t-1\t-1\t1\t1\n",
      "YY\t1\t-1\t1\t-1\t-1\t1\t-1\t1\t1\t-1\t1\t-1\t-1\t1\t-1\t1\n",
      "YZ\t1\t-1\t-1\t1\t-1\t1\t1\t-1\t1\t-1\t-1\t1\t-1\t1\t1\t-1\n",
      "ZI\t1\t1\t1\t1\t-1\t-1\t-1\t-1\t-1\t-1\t-1\t-1\t1\t1\t1\t1\n",
      "ZX\t1\t1\t-1\t-1\t-1\t-1\t1\t1\t-1\t-1\t1\t1\t1\t1\t-1\t-1\n",
      "ZY\t1\t-1\t1\t-1\t-1\t1\t-1\t1\t-1\t1\t-1\t1\t1\t-1\t1\t-1\n",
      "ZZ\t1\t-1\t-1\t1\t-1\t1\t1\t-1\t-1\t1\t1\t-1\t1\t-1\t-1\t1\n"
     ]
    }
   ],
   "source": [
    "# Example usage for 2-qubit Pauli operators\n",
    "names, matrices = generate_multi_qubit_paulis(2)\n",
    "generate_commutator_table(matrices, names)"
   ]
  },
  {
   "cell_type": "markdown",
   "metadata": {},
   "source": [
    "#### Generator Table"
   ]
  },
  {
   "cell_type": "code",
   "execution_count": 12,
   "metadata": {},
   "outputs": [
    {
     "name": "stdout",
     "output_type": "stream",
     "text": [
      "\tXI\tYX\tIZ\tXX\n",
      "XI\t1\t-1\t1\t1\n",
      "YX\t-1\t1\t-1\t-1\n",
      "IZ\t1\t-1\t1\t-1\n",
      "XX\t1\t-1\t-1\t1\n"
     ]
    }
   ],
   "source": [
    "# Example: Generator table for selected operators\n",
    "selected_names = ['XI', 'YX', 'IZ', 'XX']\n",
    "selected_matrices = [matrices[names.index('XI')], matrices[names.index('YX')], matrices[names.index('IZ')], matrices[names.index('XX')]]\n",
    "\n",
    "generate_commutator_table(selected_matrices, selected_names)"
   ]
  },
  {
   "cell_type": "markdown",
   "metadata": {},
   "source": [
    "### Finding $W$ Using Guassian Elimination"
   ]
  },
  {
   "cell_type": "code",
   "execution_count": 13,
   "metadata": {},
   "outputs": [
    {
     "name": "stdout",
     "output_type": "stream",
     "text": [
      "['XX', 'YY', 'ZI']\n",
      "['IX', 'IZ', 'YX', 'ZX']\n"
     ]
    }
   ],
   "source": [
    "import numpy as np\n",
    "from useful_classes import Paulis\n",
    "from typing import List\n",
    "from sympy import Matrix\n",
    "\n",
    "\n",
    "\n",
    "\n",
    "\n",
    "def basis(e: np.ndarray, p: Paulis) -> List[np.ndarray]:\n",
    "    \"\"\"\n",
    "    Finds the Pauli basis elements from that contribute to the noise operator `e`.\n",
    "\n",
    "    Args:\n",
    "        e (np.ndarray): The noise operator matrix.\n",
    "        p (Paulis): An object containing a collection of Pauli matrices in `p.multi_p`.\n",
    "\n",
    "    Returns:\n",
    "        List[np.ndarray]: A list of Pauli basis elements for which Tr(g @ e) != 0.\n",
    "    \"\"\"\n",
    "    return [g for g in p.multi_p if np.trace(g @ e) != 0]\n",
    "\n",
    "def find_generating_set(V):\n",
    "    \"\"\"\n",
    "    Finds the minimal generating set Ṽ for the given set V of Pauli operators.\n",
    "\n",
    "    Args:\n",
    "        V (list[str]): List of Pauli operators as strings (e.g., [\"IX\", \"IZ\", \"YX\"]).\n",
    "\n",
    "    Returns:\n",
    "        list[str]: Minimal independent generating set Ṽ.\n",
    "    \"\"\"\n",
    "    # Map Pauli operators to binary vectors\n",
    "    binary_vectors = [pauli_to_binary(v) for v in V]\n",
    "\n",
    "    # Perform Gaussian elimination (mod 2)\n",
    "    M = Matrix(binary_vectors)\n",
    "    M_reduced, _ = M.rref()  # Reduced row echelon form\n",
    "\n",
    "    # Extract independent operators\n",
    "    independent_indices = [i for i, row in enumerate(M_reduced.tolist()) if any(row)]\n",
    "    return [V[i] for i in independent_indices]\n",
    "\n",
    "def pauli_to_binary(pauli):\n",
    "    \"\"\"\n",
    "    Converts a Pauli operator to its binary vector representation.\n",
    "\n",
    "    Args:\n",
    "        pauli (str): Pauli operator (e.g., \"IX\", \"IZ\").\n",
    "\n",
    "    Returns:\n",
    "        list[int]: Binary vector representation.\n",
    "    \"\"\"\n",
    "    mapping = {'I': (0, 0), 'X': (1, 0), 'Z': (0, 1), 'Y': (1, 1)}\n",
    "    return [bit for char in pauli for bit in mapping[char]]\n",
    "\n",
    "\n",
    "def main():\n",
    "    p = Paulis(2)\n",
    "    print(find_generating_set(['XX', \"YY\", \"ZI\", 'II', \"ZZ\"]))\n",
    "    print(find_generating_set(['IX', 'IZ', 'YX', 'ZX', 'YY']))\n",
    "\n",
    "if __name__ == \"__main__\":\n",
    "    main()\n"
   ]
  },
  {
   "cell_type": "markdown",
   "metadata": {},
   "source": []
  }
 ],
 "metadata": {
  "kernelspec": {
   "display_name": "Python 3",
   "language": "python",
   "name": "python3"
  },
  "language_info": {
   "codemirror_mode": {
    "name": "ipython",
    "version": 3
   },
   "file_extension": ".py",
   "mimetype": "text/x-python",
   "name": "python",
   "nbconvert_exporter": "python",
   "pygments_lexer": "ipython3",
   "version": "3.10.4"
  }
 },
 "nbformat": 4,
 "nbformat_minor": 2
}
