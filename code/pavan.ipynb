{
 "cells": [
  {
   "cell_type": "code",
   "execution_count": 3,
   "metadata": {},
   "outputs": [
    {
     "name": "stdout",
     "output_type": "stream",
     "text": [
      "Collecting scipy\n",
      "  Downloading scipy-1.14.1-cp312-cp312-win_amd64.whl.metadata (60 kB)\n",
      "Requirement already satisfied: numpy<2.3,>=1.23.5 in c:\\users\\pavans-hp\\appdata\\local\\programs\\python\\python312\\lib\\site-packages (from scipy) (2.1.3)\n",
      "Downloading scipy-1.14.1-cp312-cp312-win_amd64.whl (44.5 MB)\n",
      "   ---------------------------------------- 0.0/44.5 MB ? eta -:--:--\n",
      "   - -------------------------------------- 2.1/44.5 MB 11.8 MB/s eta 0:00:04\n",
      "   ---- ----------------------------------- 4.7/44.5 MB 12.4 MB/s eta 0:00:04\n",
      "   ------ --------------------------------- 7.6/44.5 MB 13.1 MB/s eta 0:00:03\n",
      "   --------- ------------------------------ 11.0/44.5 MB 13.8 MB/s eta 0:00:03\n",
      "   ------------ --------------------------- 13.9/44.5 MB 13.6 MB/s eta 0:00:03\n",
      "   --------------- ------------------------ 17.6/44.5 MB 14.2 MB/s eta 0:00:02\n",
      "   ------------------ --------------------- 20.7/44.5 MB 14.5 MB/s eta 0:00:02\n",
      "   --------------------- ------------------ 24.1/44.5 MB 14.5 MB/s eta 0:00:02\n",
      "   ------------------------ --------------- 27.3/44.5 MB 14.8 MB/s eta 0:00:02\n",
      "   ------------------------- -------------- 28.0/44.5 MB 13.7 MB/s eta 0:00:02\n",
      "   -------------------------- ------------- 29.9/44.5 MB 13.2 MB/s eta 0:00:02\n",
      "   ---------------------------- ----------- 32.2/44.5 MB 13.0 MB/s eta 0:00:01\n",
      "   ------------------------------- -------- 34.6/44.5 MB 12.9 MB/s eta 0:00:01\n",
      "   --------------------------------- ------ 37.7/44.5 MB 12.9 MB/s eta 0:00:01\n",
      "   ------------------------------------ --- 41.2/44.5 MB 13.1 MB/s eta 0:00:01\n",
      "   -------------------------------------- - 43.3/44.5 MB 12.9 MB/s eta 0:00:01\n",
      "   ---------------------------------------- 44.5/44.5 MB 12.6 MB/s eta 0:00:00\n",
      "Installing collected packages: scipy\n",
      "Successfully installed scipy-1.14.1\n"
     ]
    }
   ],
   "source": [
    "!pip install scipy"
   ]
  },
  {
   "cell_type": "code",
   "execution_count": 1,
   "metadata": {},
   "outputs": [],
   "source": [
    "# Import type hints for better code readability\n",
    "from typing import List\n",
    "\n",
    "class Solution:\n",
    "    def multiply(self, mat1: List[List[int]], mat2: List[List[int]]) -> List[List[int]]:\n",
    "        # Helper function to create a sparse matrix representation\n",
    "        def create_sparse_matrix(matrix: List[List[int]]) -> List[List[tuple]]:\n",
    "            # Initialize a list to store the sparse representation\n",
    "            sparse_matrix = [[] for _ in range(len(matrix))]\n",
    "            # Iterate through the matrix to record non-zero values along with their column indexes\n",
    "            for row_index, row in enumerate(matrix):\n",
    "                for col_index, value in enumerate(row):\n",
    "                    if value:\n",
    "                        # Append a tuple containing the column index and the value if non-zero\n",
    "                        sparse_matrix[row_index].append((col_index, value))\n",
    "            return sparse_matrix\n",
    "      \n",
    "        # Create the sparse matrix representations for both input matrices\n",
    "        sparse_mat1 = create_sparse_matrix(mat1)\n",
    "        sparse_mat2 = create_sparse_matrix(mat2)\n",
    "      \n",
    "        # Get the dimensions for the resulting matrix\n",
    "        m, n = len(mat1), len(mat2[0])\n",
    "      \n",
    "        # Initialize the resulting matrix with zeros\n",
    "        result_matrix = [[0] * n for _ in range(m)]\n",
    "      \n",
    "        # Iterate through each row of mat1\n",
    "        for i in range(m):\n",
    "            # Iterate through the sparse representation of the row from mat1\n",
    "            for col_index_mat1, value_mat1 in sparse_mat1[i]:\n",
    "                # For non-zero elements in mat1's row, iterate through the corresponding row in mat2\n",
    "                for col_index_mat2, value_mat2 in sparse_mat2[col_index_mat1]:\n",
    "                    # Multiply and add to the resulting matrix\n",
    "                    result_matrix[i][col_index_mat2] += value_mat1 * value_mat2\n",
    "                  \n",
    "        # Return the resulting matrix after multiplication\n",
    "        return result_matrix"
   ]
  },
  {
   "cell_type": "code",
   "execution_count": 5,
   "metadata": {},
   "outputs": [
    {
     "name": "stdout",
     "output_type": "stream",
     "text": [
      "Result of sparse matrix multiplication (A * B * C):\n",
      " [[ 0 12  0]\n",
      " [48  0  0]\n",
      " [15  0 30]]\n"
     ]
    }
   ],
   "source": [
    "import numpy as np\n",
    "from scipy.sparse import csr_matrix\n",
    "\n",
    "# Define three sparse matrices in CSR format\n",
    "A = csr_matrix([[1, 0, 0], [0, 0, 2], [0, 3, 0]])\n",
    "B = csr_matrix([[0, 4, 0], [5, 0, 0], [0, 0, 6]])\n",
    "C = csr_matrix([[1, 0, 2], [0, 3, 0], [4, 0, 0]])\n",
    "\n",
    "# Perform the multiplication of three sparse matrices: A * B * C\n",
    "D = A.dot(B).dot(C)\n",
    "\n",
    "# Convert the result to a dense matrix for display\n",
    "result = D.toarray()\n",
    "print(\"Result of sparse matrix multiplication (A * B * C):\\n\", result)\n",
    "\n"
   ]
  },
  {
   "cell_type": "code",
   "execution_count": 6,
   "metadata": {},
   "outputs": [
    {
     "name": "stdout",
     "output_type": "stream",
     "text": [
      "Result of A * B * C:\n",
      " [[ 0 12  0]\n",
      " [48  0  0]\n",
      " [15  0 30]]\n"
     ]
    }
   ],
   "source": [
    "import numpy as np\n",
    "from scipy.sparse import csr_matrix\n",
    "\n",
    "def sparse_multiply_three(A, B, C):\n",
    "    \"\"\"\n",
    "    Perform sparse matrix multiplication for three matrices: A, B, and C.\n",
    "\n",
    "    Parameters:\n",
    "        A (csr_matrix): The first sparse matrix.\n",
    "        B (csr_matrix): The second sparse matrix.\n",
    "        C (csr_matrix): The third sparse matrix.\n",
    "\n",
    "    Returns:\n",
    "        csr_matrix: The result of A * B * C as a sparse matrix.\n",
    "    \"\"\"\n",
    "    # Ensure the matrices are in CSR format for efficient multiplication\n",
    "    A = csr_matrix(A)\n",
    "    B = csr_matrix(B)\n",
    "    C = csr_matrix(C)\n",
    "\n",
    "    # Perform the multiplication: (A * B) * C\n",
    "    result = A.dot(B).dot(C)\n",
    "\n",
    "    # Return the resulting sparse matrix\n",
    "    return result\n",
    "\n",
    "# Example usage\n",
    "A = csr_matrix([[1, 0, 0], [0, 0, 2], [0, 3, 0]])\n",
    "B = csr_matrix([[0, 4, 0], [5, 0, 0], [0, 0, 6]])\n",
    "C = csr_matrix([[1, 0, 2], [0, 3, 0], [4, 0, 0]])\n",
    "\n",
    "# Call the function\n",
    "result = sparse_multiply_three(A, B, C)\n",
    "\n",
    "# Display the result as a dense matrix\n",
    "print(\"Result of A * B * C:\\n\", result.toarray())\n"
   ]
  },
  {
   "cell_type": "code",
   "execution_count": 7,
   "metadata": {},
   "outputs": [
    {
     "name": "stdout",
     "output_type": "stream",
     "text": [
      "Twirled matrix:\n",
      " [[0.5+0.j 0. +0.j]\n",
      " [0. +0.j 0.5+0.j]]\n"
     ]
    }
   ],
   "source": [
    "import numpy as np\n",
    "\n",
    "def twirl_operator(W, M):\n",
    "    \"\"\"\n",
    "    Perform the twirling operation on the matrix M using the twirling set W.\n",
    "\n",
    "    Parameters:\n",
    "        W (list of numpy arrays): The twirling set, a list of matrices.\n",
    "        M (numpy array): The matrix (noise operator) to be twirled.\n",
    "\n",
    "    Returns:\n",
    "        numpy array: The resulting twirled matrix.\n",
    "    \"\"\"\n",
    "    # Get the size of the twirling set\n",
    "    n = len(W)\n",
    "    \n",
    "    # Initialize the result matrix with zeros of the same shape as M\n",
    "    twirled_matrix = np.zeros_like(M, dtype=complex)\n",
    "    \n",
    "    # Iterate over each matrix w in the twirling set W\n",
    "    for w in W:\n",
    "        twirled_matrix += w @ M @ w.conj().T\n",
    "\n",
    "    # Divide by the size of the twirling set\n",
    "    twirled_matrix /= n\n",
    "\n",
    "    return twirled_matrix\n",
    "\n",
    "# Example usage\n",
    "# Define the twirling set (list of matrices)\n",
    "W = [\n",
    "    np.array([[1, 0], [0, 1]]),  # Identity matrix\n",
    "    np.array([[0, 1], [1, 0]]),  # Pauli-X matrix\n",
    "    np.array([[0, -1j], [1j, 0]]),  # Pauli-Y matrix\n",
    "    np.array([[1, 0], [0, -1]])  # Pauli-Z matrix\n",
    "]\n",
    "\n",
    "# Define the noise operator M\n",
    "M = np.array([[0.5, 0.5], [0.5, 0.5]])\n",
    "\n",
    "# Call the function\n",
    "result = twirl_operator(W, M)\n",
    "\n",
    "# Print the result\n",
    "print(\"Twirled matrix:\\n\", result)\n"
   ]
  }
 ],
 "metadata": {
  "kernelspec": {
   "display_name": "Python 3",
   "language": "python",
   "name": "python3"
  },
  "language_info": {
   "codemirror_mode": {
    "name": "ipython",
    "version": 3
   },
   "file_extension": ".py",
   "mimetype": "text/x-python",
   "name": "python",
   "nbconvert_exporter": "python",
   "pygments_lexer": "ipython3",
   "version": "3.12.1"
  }
 },
 "nbformat": 4,
 "nbformat_minor": 2
}
