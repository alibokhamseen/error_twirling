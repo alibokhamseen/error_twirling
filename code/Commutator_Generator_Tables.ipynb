{
 "cells": [
  {
   "cell_type": "markdown",
   "metadata": {},
   "source": [
    "### OLD Generator Table Creation\n",
    "\n",
    "#### Ignore the below code"
   ]
  },
  {
   "cell_type": "code",
   "execution_count": 11,
   "metadata": {},
   "outputs": [],
   "source": [
    "class GeneratorTable:\n",
    "\n",
    "    def generator_zeta(self, i, j):\n",
    "        \"\"\"Finds values for delta_{ij} element\"\"\"\n",
    "        return 1 - 2 * (i == j)\n",
    "\n",
    "    def create_generator_table(self):\n",
    "        \"\"\"Creates table based on delta function\"\"\"\n",
    "        self.generator_table = np.zeros((self.size, self.size), dtype=int)\n",
    "\n",
    "        for i in range(self.size):\n",
    "            for j in range(self.size):\n",
    "                self.generator_table[i, j] = self.generator_zeta(i, j)\n",
    "\n",
    "        return self.generator_table\n"
   ]
  },
  {
   "cell_type": "markdown",
   "metadata": {},
   "source": [
    "### Pauli Matrices Generation and New Generator Table Creation\n",
    "\n",
    "This should accurately generate the commutator tables. More testing needed."
   ]
  },
  {
   "cell_type": "code",
   "execution_count": 15,
   "metadata": {},
   "outputs": [
    {
     "name": "stdout",
     "output_type": "stream",
     "text": [
      "\tII\tIX\tIY\tIZ\tXI\tXX\tXY\tXZ\tYI\tYX\tYY\tYZ\tZI\tZX\tZY\tZZ\n",
      "II\t1\t1\t1\t1\t1\t1\t1\t1\t1\t1\t1\t1\t1\t1\t1\t1\n",
      "IX\t1\t1\t-1\t-1\t1\t1\t-1\t-1\t1\t1\t-1\t-1\t1\t1\t-1\t-1\n",
      "IY\t1\t-1\t1\t-1\t1\t-1\t1\t-1\t1\t-1\t1\t-1\t1\t-1\t1\t-1\n",
      "IZ\t1\t-1\t-1\t1\t1\t-1\t-1\t1\t1\t-1\t-1\t1\t1\t-1\t-1\t1\n",
      "XI\t1\t1\t1\t1\t1\t1\t1\t1\t-1\t-1\t-1\t-1\t-1\t-1\t-1\t-1\n",
      "XX\t1\t1\t-1\t-1\t1\t1\t-1\t-1\t-1\t-1\t1\t1\t-1\t-1\t1\t1\n",
      "XY\t1\t-1\t1\t-1\t1\t-1\t1\t-1\t-1\t1\t-1\t1\t-1\t1\t-1\t1\n",
      "XZ\t1\t-1\t-1\t1\t1\t-1\t-1\t1\t-1\t1\t1\t-1\t-1\t1\t1\t-1\n",
      "YI\t1\t1\t1\t1\t-1\t-1\t-1\t-1\t1\t1\t1\t1\t-1\t-1\t-1\t-1\n",
      "YX\t1\t1\t-1\t-1\t-1\t-1\t1\t1\t1\t1\t-1\t-1\t-1\t-1\t1\t1\n",
      "YY\t1\t-1\t1\t-1\t-1\t1\t-1\t1\t1\t-1\t1\t-1\t-1\t1\t-1\t1\n",
      "YZ\t1\t-1\t-1\t1\t-1\t1\t1\t-1\t1\t-1\t-1\t1\t-1\t1\t1\t-1\n",
      "ZI\t1\t1\t1\t1\t-1\t-1\t-1\t-1\t-1\t-1\t-1\t-1\t1\t1\t1\t1\n",
      "ZX\t1\t1\t-1\t-1\t-1\t-1\t1\t1\t-1\t-1\t1\t1\t1\t1\t-1\t-1\n",
      "ZY\t1\t-1\t1\t-1\t-1\t1\t-1\t1\t-1\t1\t-1\t1\t1\t-1\t1\t-1\n",
      "ZZ\t1\t-1\t-1\t1\t-1\t1\t1\t-1\t-1\t1\t1\t-1\t1\t-1\t-1\t1\n"
     ]
    }
   ],
   "source": [
    "import numpy as np\n",
    "from itertools import product\n",
    "\n",
    "# Define Pauli matrices and their names\n",
    "pauli_matrices = {\n",
    "    'I': np.array([[1, 0], [0, 1]]),\n",
    "    'X': np.array([[0, 1], [1, 0]]),\n",
    "    'Y': np.array([[0, -1j], [1j, 0]]),\n",
    "    'Z': np.array([[1, 0], [0, -1]])\n",
    "}\n",
    "\n",
    "# Generate tensor products for multi-qubit Pauli operators\n",
    "def generate_multi_qubit_paulis(n):\n",
    "    keys = list(pauli_matrices.keys())\n",
    "    ops = list(pauli_matrices.values())\n",
    "    names = []\n",
    "    matrices = []\n",
    "\n",
    "    for prod in product(keys, repeat=n):\n",
    "        name = ''.join(prod)\n",
    "        matrix = pauli_matrices[prod[0]]\n",
    "        for k in range(1, n):\n",
    "            matrix = np.kron(matrix, pauli_matrices[prod[k]])\n",
    "        names.append(name)\n",
    "        matrices.append(matrix)\n",
    "\n",
    "    return names, matrices\n",
    "\n",
    "# Define commutator function ζ(gi, gj)\n",
    "def commutator(gi, gj):\n",
    "    comm = gi @ gj - gj @ gi\n",
    "    return 1 if np.allclose(comm, 0) else -1\n",
    "\n",
    "# Generate commutator table\n",
    "def generate_commutator_table(matrices, names):\n",
    "    n = len(matrices)\n",
    "    table = np.zeros((n, n), dtype=int)\n",
    "    \n",
    "    for i in range(n):\n",
    "        for j in range(n):\n",
    "            table[i, j] = commutator(matrices[i], matrices[j])\n",
    "    \n",
    "    # Print with names\n",
    "    print(\"\\t\" + \"\\t\".join(names))\n",
    "    for i in range(n):\n",
    "        print(names[i] + \"\\t\" + \"\\t\".join(map(str, table[i])))\n",
    "\n",
    "# Example usage for 2-qubit Pauli operators\n",
    "names, matrices = generate_multi_qubit_paulis(2)\n",
    "generate_commutator_table(matrices, names)\n"
   ]
  },
  {
   "cell_type": "markdown",
   "metadata": {},
   "source": [
    "### Produce Generator Table from Two Operators\n",
    "\n",
    "This should generate the Generator tables based on the commutator table."
   ]
  },
  {
   "cell_type": "code",
   "execution_count": 14,
   "metadata": {},
   "outputs": [
    {
     "name": "stdout",
     "output_type": "stream",
     "text": [
      "\tXI\tYX\tIZ\tXX\n",
      "XI\t1\t-1\t1\t1\n",
      "YX\t-1\t1\t-1\t-1\n",
      "IZ\t1\t-1\t1\t-1\n",
      "XX\t1\t-1\t-1\t1\n"
     ]
    }
   ],
   "source": [
    "# Example: Generator table for selected operators\n",
    "selected_names = ['XI', 'YX', 'IZ', 'XX']\n",
    "selected_matrices = [matrices[names.index('XI')], matrices[names.index('YX')], matrices[names.index('IZ')], matrices[names.index('XX')]]\n",
    "\n",
    "generate_commutator_table(selected_matrices, selected_names)\n"
   ]
  }
 ],
 "metadata": {
  "kernelspec": {
   "display_name": "Python 3",
   "language": "python",
   "name": "python3"
  },
  "language_info": {
   "codemirror_mode": {
    "name": "ipython",
    "version": 3
   },
   "file_extension": ".py",
   "mimetype": "text/x-python",
   "name": "python",
   "nbconvert_exporter": "python",
   "pygments_lexer": "ipython3",
   "version": "3.10.4"
  }
 },
 "nbformat": 4,
 "nbformat_minor": 2
}
