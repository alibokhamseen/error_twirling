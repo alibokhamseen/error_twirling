{
 "cells": [
  {
   "cell_type": "markdown",
   "metadata": {},
   "source": [
    "### Creating Commutator and Generator Table of Size n x n\n",
    "\n",
    "#### Marcus K\n",
    "\n",
    "\\[Explanation of what is going on here\\]"
   ]
  },
  {
   "cell_type": "code",
   "execution_count": 2,
   "metadata": {},
   "outputs": [
    {
     "name": "stdout",
     "output_type": "stream",
     "text": [
      "Commutator Table:\n",
      "[[1 1 1]\n",
      " [1 1 1]\n",
      " [1 1 1]]\n",
      "\n",
      "Generator Table:\n",
      "[[-1  1  1]\n",
      " [ 1 -1  1]\n",
      " [ 1  1 -1]]\n"
     ]
    }
   ],
   "source": [
    "import numpy as np\n",
    "\n",
    "class CommutatorGeneratorTables:\n",
    "    def __init__(self, A=None, B=None, size=3):\n",
    "        # Initialize matrices A and B for commutator table and size for generator table\n",
    "        self.A = A if A is not None else np.random.rand(3, 3)\n",
    "        self.B = B if B is not None else np.random.rand(3, 3)\n",
    "        self.size = size\n",
    "        self.commutator_table = None\n",
    "        self.generator_table = None\n",
    "\n",
    "    def zeta(self, g_i, g_j):\n",
    "        # Define the commutator function zeta(g_i, g_j)\n",
    "        commutator = g_i * g_j - g_j * g_i  # [g_i, g_j]\n",
    "        anticommutator = g_i * g_j + g_j * g_i  # {g_i, g_j}\n",
    "        \n",
    "        if commutator == 0:\n",
    "            return 1  # [g_i, g_j] = 0\n",
    "        elif anticommutator == 0:\n",
    "            return -1  # {g_i, g_j} = 0\n",
    "        else:\n",
    "            return 0  # Default value if not meeting either condition\n",
    "\n",
    "    def create_commutator_table(self):\n",
    "        # Create the commutator table\n",
    "        self.commutator_table = np.zeros((self.A.shape[0], self.B.shape[1]), dtype=int)\n",
    "\n",
    "        for i in range(self.A.shape[0]):\n",
    "            for j in range(self.B.shape[1]):\n",
    "                try:\n",
    "                    self.commutator_table[i, j] = self.zeta(self.A[i, j], self.B[i, j])\n",
    "                except ValueError:\n",
    "                    self.commutator_table[i, j] = 0  # Set a default value for undefined cases\n",
    "\n",
    "        return self.commutator_table\n",
    "\n",
    "    def generator_zeta(self, i, j):\n",
    "        # Define the function for the generator table based on Kronecker delta\n",
    "        return 1 - 2 * (i == j)  # Returns 1 - 2*delta_{ij}\n",
    "\n",
    "    def create_generator_table(self):\n",
    "        # Create the generator table\n",
    "        self.generator_table = np.zeros((self.size, self.size), dtype=int)\n",
    "\n",
    "        for i in range(self.size):\n",
    "            for j in range(self.size):\n",
    "                self.generator_table[i, j] = self.generator_zeta(i, j)\n",
    "\n",
    "        return self.generator_table\n",
    "\n",
    "# Example usage\n",
    "tables = CommutatorGeneratorTables()\n",
    "commutator_table = tables.create_commutator_table()\n",
    "generator_table = tables.create_generator_table()\n",
    "\n",
    "\n",
    "print(\"Commutator Table:\")\n",
    "print(commutator_table)\n",
    "\n",
    "print(\"\\nGenerator Table:\")\n",
    "print(generator_table)\n",
    "\n",
    "\n",
    "\n",
    "\n"
   ]
  }
 ],
 "metadata": {
  "kernelspec": {
   "display_name": "Python 3",
   "language": "python",
   "name": "python3"
  },
  "language_info": {
   "codemirror_mode": {
    "name": "ipython",
    "version": 3
   },
   "file_extension": ".py",
   "mimetype": "text/x-python",
   "name": "python",
   "nbconvert_exporter": "python",
   "pygments_lexer": "ipython3",
   "version": "3.10.4"
  }
 },
 "nbformat": 4,
 "nbformat_minor": 2
}
