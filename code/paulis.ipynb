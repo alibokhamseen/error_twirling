{
 "cells": [
  {
   "cell_type": "code",
   "execution_count": 1,
   "metadata": {},
   "outputs": [],
   "source": [
    "import numpy as np"
   ]
  },
  {
   "cell_type": "code",
   "execution_count": 21,
   "metadata": {},
   "outputs": [],
   "source": [
    "def pauli() -> dict:\n",
    "    I = np.array([[1, 0], [0, 1]], dtype=np.complex128)\n",
    "    X = np.array([[0, 1], [1, 0]], dtype=np.complex128)\n",
    "    Y = np.array([[0, -1j], [1j, 0]], dtype=np.complex128)\n",
    "    Z = np.array([[1, 0], [0, -1]], dtype=np.complex128)\n",
    "    return {\"I\": I, \"X\": X, \"Y\": Y, \"Z\": Z}"
   ]
  },
  {
   "cell_type": "code",
   "execution_count": null,
   "metadata": {},
   "outputs": [],
   "source": []
  }
 ],
 "metadata": {
  "kernelspec": {
   "display_name": "base",
   "language": "python",
   "name": "python3"
  },
  "language_info": {
   "codemirror_mode": {
    "name": "ipython",
    "version": 3
   },
   "file_extension": ".py",
   "mimetype": "text/x-python",
   "name": "python",
   "nbconvert_exporter": "python",
   "pygments_lexer": "ipython3",
   "version": "3.10.9"
  }
 },
 "nbformat": 4,
 "nbformat_minor": 2
}
